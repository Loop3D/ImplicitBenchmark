{
 "cells": [
  {
   "cell_type": "code",
   "execution_count": 1,
   "metadata": {
    "ExecuteTime": {
     "end_time": "2019-09-06T06:20:40.529439Z",
     "start_time": "2019-09-06T06:20:39.831361Z"
    }
   },
   "outputs": [],
   "source": [
    "from FME.interpolators.piecewiselinear_interpolator import PiecewiseLinearInterpolator as PLI\n",
    "from FME.supports.tet_mesh import TetMesh\n",
    "from FME.modelling.features.geological_feature import GeologicalFeatureInterpolator\n",
    "# from FME.modelling.features.faulted_geological_feature import FaultedGeologicalFeature\n",
    "from FME.visualisation.model_visualisation import LavaVuModelViewer\n",
    "# from FME.modelling.structural_frame import StructuralFrameBuilder, StructuralFrame\n",
    "# from FME.modelling.fault.fault_segment import FaultSegment\n",
    "import numpy as np\n",
    "import lavavu\n",
    "import matplotlib.pyplot as plt\n",
    "import pandas as pd\n",
    "%matplotlib inline"
   ]
  },
  {
   "cell_type": "markdown",
   "metadata": {},
   "source": [
    "# Implicit benchmark data set - Moureze, synthetic hydrothermal body. \n",
    "\n",
    "*Data set interpreted and prepared in July 2019 by Guillaume.Caumon@univ-lorraine.fr, \n",
    "to whom questions should be addressed.*\n",
    "\n",
    "This data set is generated from a perturbed distance field to a set of fractures\n",
    "above a basement surface. The surface is quite complex and has many features at\n",
    "two main resolutions (one corresponding to the fractures and the other one to\n",
    "the noise). It is samples by two sets of cross section lines and a set of\n",
    "points. \n",
    "\n",
    "## Contents\n",
    " \n",
    " * `Moureze_Points.csv` correspond are samples of the surface to reconstruct. \n",
    " Their density decreases from south to north (the surface is clearly\n",
    " undersampled in the north). Some of the points bear\n",
    " orientation vectors representing the normal to the surface. \n",
    " * `Sections_[EW,NS].csv` are sections lines. The field `PART_ID` is a unique \n",
    " section identifier in each file. \n",
    "\n",
    "## Results\n",
    "\n",
    "Please rename the `Results_` as `Results_YOURNAME` directory. The directory\n",
    "contains an empty Voxet (Cartesian Grid) and an empty \n",
    "tetrahedral mesh conformable to faults (resolution 3m), both \n",
    "in Gocad ASCII format.\n",
    "\n",
    "### Scalar Field\n",
    "Suggested size of the axis-aligned modeling box: \n",
    "Origin: -5 -5 -200\n",
    "Maximum: 305 405 -50\n",
    "\n",
    "Suggested resolution: 2m (grid size 156 x 206 x 76)\n",
    "\n",
    "An empty Gocad Voxet is already in the results directory. You may write your values in binary format (float C 4-byte values), or ASCII format.  \n",
    "\n",
    "### Surfaces \n",
    "\n",
    "Please use DXF, Gocad and/or .obj format. \n"
   ]
  },
  {
   "cell_type": "code",
   "execution_count": 2,
   "metadata": {
    "ExecuteTime": {
     "end_time": "2019-09-06T06:20:40.604636Z",
     "start_time": "2019-09-06T06:20:40.572697Z"
    }
   },
   "outputs": [],
   "source": [
    "dips = pd.read_csv('../Moureze_Points.csv',delimiter=';')\n",
    "# points_file_names = ['../Moureze_Points.csv']\n",
    "section_file_names = ['../Sections_EW.csv','../Sections_NS.csv']\n",
    "\n",
    "# import all of the csv into the same dataframe\n",
    "# dfs = []\n",
    "# for f in points_file_names:\n",
    "#     dfs.append(pd.read_csv(f,delimiter=';'))\n",
    "# points = pd.concat(dfs,axis=0,ignore_index=True)\n",
    "# sections\n",
    "dfs = []\n",
    "for f in section_file_names:\n",
    "    dfs.append(pd.read_csv(f,delimiter=';'))\n",
    "sections = pd.concat(dfs,axis=0,ignore_index=True)\n",
    "# apoints = pd.read_csv('APoints.csv',delimiter=';')\n",
    "# asection = pd.read_csv('ASection.csv',delimiter=';')\n",
    "\n"
   ]
  },
  {
   "cell_type": "code",
   "execution_count": null,
   "metadata": {
    "ExecuteTime": {
     "end_time": "2019-08-29T23:42:36.352950Z",
     "start_time": "2019-08-29T23:42:36.343653Z"
    }
   },
   "outputs": [],
   "source": []
  },
  {
   "cell_type": "code",
   "execution_count": 3,
   "metadata": {
    "ExecuteTime": {
     "end_time": "2019-09-06T06:20:53.013369Z",
     "start_time": "2019-09-06T06:20:51.242219Z"
    }
   },
   "outputs": [],
   "source": [
    "boundary_points = np.zeros((2,3))\n",
    "\n",
    "boundary_points[0,0] = -5\n",
    "boundary_points[0,1] = -5\n",
    "boundary_points[0,2] = -200\n",
    "boundary_points[1,0] = 305\n",
    "boundary_points[1,1] = 405\n",
    "boundary_points[1,2] = -50\n",
    "mesh = TetMesh(name='Moureze')\n",
    "mesh.setup_mesh(boundary_points, nstep=1, n_tetra=100000,)\n"
   ]
  },
  {
   "cell_type": "code",
   "execution_count": 4,
   "metadata": {
    "ExecuteTime": {
     "end_time": "2019-09-06T06:20:53.117546Z",
     "start_time": "2019-09-06T06:20:53.106313Z"
    }
   },
   "outputs": [
    {
     "name": "stdout",
     "output_type": "stream",
     "text": [
      "                X           Y        Z  PART_ID  Unnamed: 4\n",
      "0      298.000000  372.000000 -158.251        1         NaN\n",
      "1      296.226807  372.000000 -158.147        1         NaN\n",
      "2      296.136200  372.000000 -158.136        1         NaN\n",
      "3      296.000000  372.000000 -158.120        1         NaN\n",
      "4      295.487976  372.000000 -158.000        1         NaN\n",
      "5      294.000000  372.000000 -157.652        1         NaN\n",
      "6      293.523773  372.000000 -157.524        1         NaN\n",
      "7      292.000000  372.000000 -157.113        1         NaN\n",
      "8      290.739380  372.000000 -156.739        1         NaN\n",
      "9      290.000000  372.000000 -156.520        1         NaN\n",
      "10     288.058472  372.000000 -156.000        1         NaN\n",
      "11     288.000000  372.000000 -155.984        1         NaN\n",
      "12     287.981232  372.000000 -155.981        1         NaN\n",
      "13     286.000000  372.000000 -155.655        1         NaN\n",
      "14     285.623291  372.000000 -155.623        1         NaN\n",
      "15     284.000000  372.000000 -155.484        1         NaN\n",
      "16     283.468781  372.000000 -155.469        1         NaN\n",
      "17     282.000000  372.000000 -155.425        1         NaN\n",
      "18     281.412628  372.000000 -155.413        1         NaN\n",
      "19     280.000000  372.000000 -155.382        1         NaN\n",
      "20     279.363312  372.000000 -155.363        1         NaN\n",
      "21     278.000000  372.000000 -155.323        1         NaN\n",
      "22     277.265137  372.000000 -155.265        1         NaN\n",
      "23     276.000000  372.000000 -155.165        1         NaN\n",
      "24     275.093536  372.000000 -155.094        1         NaN\n",
      "25     274.000000  372.000000 -155.008        1         NaN\n",
      "26     272.881195  372.000000 -154.881        1         NaN\n",
      "27     272.000000  372.000000 -154.782        1         NaN\n",
      "28     270.579895  372.000000 -154.580        1         NaN\n",
      "29     270.000000  372.000000 -154.498        1         NaN\n",
      "...           ...         ...      ...      ...         ...\n",
      "20627  248.000000    1.129608 -157.130       13         NaN\n",
      "20628  248.000000    0.000000 -157.477       13         NaN\n",
      "20629  248.000000   70.000000 -159.466       13         NaN\n",
      "20630  248.000000   69.494156 -159.494       13         NaN\n",
      "20631  248.000000   68.000000 -159.578       13         NaN\n",
      "20632  248.000000   66.415260 -158.415       13         NaN\n",
      "20633  248.000000   66.000000 -158.111       13         NaN\n",
      "20634  248.000000   65.849327 -158.000       13         NaN\n",
      "20635  248.000000   65.635750 -157.636       13         NaN\n",
      "20636  248.000000   64.676643 -156.000       13         NaN\n",
      "20637  248.000000   64.148232 -154.148       13         NaN\n",
      "20638  248.000000   64.105934 -154.000       13         NaN\n",
      "20639  248.000000   64.939850 -152.940       13         NaN\n",
      "20640  248.000000   65.679146 -152.000       13         NaN\n",
      "20641  248.000000   65.820412 -151.820       13         NaN\n",
      "20642  248.000000   66.000000 -151.592       13         NaN\n",
      "20643  248.000000   67.212082 -151.212       13         NaN\n",
      "20644  248.000000   68.000000 -150.965       13         NaN\n",
      "20645  248.000000   69.277473 -151.277       13         NaN\n",
      "20646  248.000000   70.000000 -151.454       13         NaN\n",
      "20647  248.000000   70.475929 -152.000       13         NaN\n",
      "20648  248.000000   72.000000 -153.748       13         NaN\n",
      "20649  248.000000   72.219833 -154.000       13         NaN\n",
      "20650  248.000000   72.257210 -154.257       13         NaN\n",
      "20651  248.000000   72.510468 -156.000       13         NaN\n",
      "20652  248.000000   72.403862 -156.404       13         NaN\n",
      "20653  248.000000   72.000000 -157.934       13         NaN\n",
      "20654  248.000000   71.962570 -157.963       13         NaN\n",
      "20655  248.000000   71.913696 -158.000       13         NaN\n",
      "20656  248.000000   70.830017 -158.830       13         NaN\n",
      "\n",
      "[20657 rows x 5 columns]\n"
     ]
    }
   ],
   "source": [
    "print(sections)"
   ]
  },
  {
   "cell_type": "code",
   "execution_count": 5,
   "metadata": {
    "ExecuteTime": {
     "end_time": "2019-09-06T06:20:55.410206Z",
     "start_time": "2019-09-06T06:20:53.198403Z"
    }
   },
   "outputs": [
    {
     "name": "stdout",
     "output_type": "stream",
     "text": [
      "<FME.supports.tet_mesh.TetMesh object at 0x7f205828e2b0>\n"
     ]
    }
   ],
   "source": [
    "interpolator = PLI(mesh)\n",
    "stratigraphy_builder = GeologicalFeatureInterpolator(\n",
    "    interpolator=interpolator,\n",
    "    name='stratigraphy')\n",
    "solver = 'lu'\n",
    "# for i, r in points.iterrows():\n",
    "#     stratigraphy_builder.add_point([r['X'],r['Y'],r['Z']],r['Strati'])#xy[0][0],xy[1][0],z],r['value'],itype=r['itype'])\n",
    "for i, r in sections.iterrows():\n",
    "    stratigraphy_builder.add_point([r['X'],r['Y'],r['Z']],r['PART_ID'])#xy[0][0],xy[1][0],z],r['value'],itype=r['itype'])\n",
    "for i, r in dips.iterrows():\n",
    "    stratigraphy_builder.add_planar_constraint([r['X'],r['Y'],r['Z']],[r['OrientX'],r['OrientY'],r['OrientZ']])\n",
    "# stratigraphy_builder.add_point([6.1,0.1,1.1],0.)\n",
    "# stratigraphy_builder.add_point([6.1,0.1,2.1],1.)\n",
    "# stratigraphy_builder.add_strike_and_dip([1,1,1],90.,0.)\n",
    "unique = np.unique(stratigraphy_builder.interpolator.get_control_points()[:,3])"
   ]
  },
  {
   "cell_type": "code",
   "execution_count": 6,
   "metadata": {
    "ExecuteTime": {
     "end_time": "2019-09-06T06:21:19.220886Z",
     "start_time": "2019-09-06T06:20:55.503977Z"
    }
   },
   "outputs": [],
   "source": [
    "stratigraphy = stratigraphy_builder.build(solver=solver,cgw=100)\n"
   ]
  },
  {
   "cell_type": "code",
   "execution_count": null,
   "metadata": {
    "ExecuteTime": {
     "start_time": "2019-09-06T06:20:55.407Z"
    }
   },
   "outputs": [],
   "source": [
    "viewer = LavaVuModelViewer(background=\"white\")\n",
    "viewer.plot_isosurface(stratigraphy, slices=unique,  colour='blue')\n",
    "viewer.plot_value_data(stratigraphy.support.interpolator.get_control_points()[:,:3],\n",
    "                       stratigraphy.support.interpolator.get_control_points()[:,3],\n",
    "                       'val')\n",
    "viewer.plot_isosurface(stratigraphy, slices=[30,125,300], colour='red')\n",
    "viewer.plot_vector_data(\n",
    "    stratigraphy.support.interpolator.get_gradient_control()[:,:3],\n",
    "    stratigraphy.support.interpolator.get_gradient_control()[:,3:],\n",
    "    'grad')\n",
    "\n",
    "viewer.interactive()"
   ]
  },
  {
   "cell_type": "code",
   "execution_count": 8,
   "metadata": {
    "ExecuteTime": {
     "end_time": "2019-08-29T06:01:20.713446Z",
     "start_time": "2019-08-29T06:01:20.511054Z"
    }
   },
   "outputs": [
    {
     "data": {
      "text/plain": [
       "'~/dev/python/FME/examples/Claudius/loop.png'"
      ]
     },
     "execution_count": 8,
     "metadata": {},
     "output_type": "execute_result"
    }
   ],
   "source": [
    "viewer.lv.image(\"~/dev/python/FME/examples/Claudius/loop.png\")"
   ]
  },
  {
   "cell_type": "code",
   "execution_count": null,
   "metadata": {},
   "outputs": [],
   "source": []
  }
 ],
 "metadata": {
  "kernelspec": {
   "display_name": "Python 3",
   "language": "python",
   "name": "python3"
  },
  "language_info": {
   "codemirror_mode": {
    "name": "ipython",
    "version": 3
   },
   "file_extension": ".py",
   "mimetype": "text/x-python",
   "name": "python",
   "nbconvert_exporter": "python",
   "pygments_lexer": "ipython3",
   "version": "3.6.8"
  },
  "varInspector": {
   "cols": {
    "lenName": 16,
    "lenType": 16,
    "lenVar": 40
   },
   "kernels_config": {
    "python": {
     "delete_cmd_postfix": "",
     "delete_cmd_prefix": "del ",
     "library": "var_list.py",
     "varRefreshCmd": "print(var_dic_list())"
    },
    "r": {
     "delete_cmd_postfix": ") ",
     "delete_cmd_prefix": "rm(",
     "library": "var_list.r",
     "varRefreshCmd": "cat(var_dic_list()) "
    }
   },
   "types_to_exclude": [
    "module",
    "function",
    "builtin_function_or_method",
    "instance",
    "_Feature"
   ],
   "window_display": false
  }
 },
 "nbformat": 4,
 "nbformat_minor": 2
}
