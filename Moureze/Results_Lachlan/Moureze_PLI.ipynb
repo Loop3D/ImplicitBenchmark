{
 "cells": [
  {
   "cell_type": "code",
   "execution_count": 1,
   "metadata": {
    "ExecuteTime": {
     "end_time": "2019-09-09T06:48:14.100469Z",
     "start_time": "2019-09-09T06:48:13.284354Z"
    }
   },
   "outputs": [],
   "source": [
    "from FME.interpolators.piecewiselinear_interpolator import PiecewiseLinearInterpolator as PLI\n",
    "from FME.supports.tet_mesh import TetMesh\n",
    "from FME.modelling.features.geological_feature import GeologicalFeatureInterpolator\n",
    "# from FME.modelling.features.faulted_geological_feature import FaultedGeologicalFeature\n",
    "from FME.visualisation.model_visualisation import LavaVuModelViewer\n",
    "# from FME.modelling.structural_frame import StructuralFrameBuilder, StructuralFrame\n",
    "# from FME.modelling.fault.fault_segment import FaultSegment\n",
    "import numpy as np\n",
    "import lavavu\n",
    "import matplotlib.pyplot as plt\n",
    "import pandas as pd\n",
    "%matplotlib inline"
   ]
  },
  {
   "cell_type": "markdown",
   "metadata": {},
   "source": [
    "# Implicit benchmark data set - Moureze, synthetic hydrothermal body. \n",
    "\n",
    "*Data set interpreted and prepared in July 2019 by Guillaume.Caumon@univ-lorraine.fr, \n",
    "to whom questions should be addressed.*\n",
    "\n",
    "This data set is generated from a perturbed distance field to a set of fractures\n",
    "above a basement surface. The surface is quite complex and has many features at\n",
    "two main resolutions (one corresponding to the fractures and the other one to\n",
    "the noise). It is samples by two sets of cross section lines and a set of\n",
    "points. \n",
    "\n",
    "## Contents\n",
    " \n",
    " * `Moureze_Points.csv` correspond are samples of the surface to reconstruct. \n",
    " Their density decreases from south to north (the surface is clearly\n",
    " undersampled in the north). Some of the points bear\n",
    " orientation vectors representing the normal to the surface. \n",
    " * `Sections_[EW,NS].csv` are sections lines. The field `PART_ID` is a unique \n",
    " section identifier in each file. \n",
    "\n",
    "## Results\n",
    "\n",
    "Please rename the `Results_` as `Results_YOURNAME` directory. The directory\n",
    "contains an empty Voxet (Cartesian Grid) and an empty \n",
    "tetrahedral mesh conformable to faults (resolution 3m), both \n",
    "in Gocad ASCII format.\n",
    "\n",
    "### Scalar Field\n",
    "Suggested size of the axis-aligned modeling box: \n",
    "Origin: -5 -5 -200\n",
    "Maximum: 305 405 -50\n",
    "\n",
    "Suggested resolution: 2m (grid size 156 x 206 x 76)\n",
    "\n",
    "An empty Gocad Voxet is already in the results directory. You may write your values in binary format (float C 4-byte values), or ASCII format.  \n",
    "\n",
    "### Surfaces \n",
    "\n",
    "Please use DXF, Gocad and/or .obj format. \n"
   ]
  },
  {
   "cell_type": "code",
   "execution_count": 2,
   "metadata": {
    "ExecuteTime": {
     "end_time": "2019-09-09T06:48:14.131609Z",
     "start_time": "2019-09-09T06:48:14.102423Z"
    }
   },
   "outputs": [],
   "source": [
    "dips = pd.read_csv('../Moureze_Points.csv',delimiter=';')\n",
    "# points_file_names = ['../Moureze_Points.csv']\n",
    "section_file_names = ['../Sections_EW.csv','../Sections_NS.csv']\n",
    "\n",
    "# import all of the csv into the same dataframe\n",
    "# dfs = []\n",
    "# for f in points_file_names:\n",
    "#     dfs.append(pd.read_csv(f,delimiter=';'))\n",
    "# points = pd.concat(dfs,axis=0,ignore_index=True)\n",
    "# sections\n",
    "dfs = []\n",
    "for f in section_file_names:\n",
    "    dfs.append(pd.read_csv(f,delimiter=';'))\n",
    "sections = pd.concat(dfs,axis=0,ignore_index=True)\n",
    "# apoints = pd.read_csv('APoints.csv',delimiter=';')\n",
    "# asection = pd.read_csv('ASection.csv',delimiter=';')"
   ]
  },
  {
   "cell_type": "code",
   "execution_count": null,
   "metadata": {
    "ExecuteTime": {
     "end_time": "2019-08-29T23:42:36.352950Z",
     "start_time": "2019-08-29T23:42:36.343653Z"
    }
   },
   "outputs": [],
   "source": []
  },
  {
   "cell_type": "code",
   "execution_count": 3,
   "metadata": {
    "ExecuteTime": {
     "end_time": "2019-09-09T06:48:15.110703Z",
     "start_time": "2019-09-09T06:48:14.133585Z"
    }
   },
   "outputs": [],
   "source": [
    "boundary_points = np.zeros((2,3))\n",
    "\n",
    "boundary_points[0,0] = -5\n",
    "boundary_points[0,1] = -5\n",
    "boundary_points[0,2] = -200\n",
    "boundary_points[1,0] = 305\n",
    "boundary_points[1,1] = 405\n",
    "boundary_points[1,2] = -50\n",
    "mesh = TetMesh(name='Moureze')\n",
    "mesh.setup_mesh(boundary_points, nstep=1, n_tetra=50000,)\n"
   ]
  },
  {
   "cell_type": "code",
   "execution_count": 4,
   "metadata": {
    "ExecuteTime": {
     "end_time": "2019-09-09T06:48:18.559513Z",
     "start_time": "2019-09-09T06:48:15.112087Z"
    }
   },
   "outputs": [
    {
     "name": "stdout",
     "output_type": "stream",
     "text": [
      "<FME.supports.tet_mesh.TetMesh object at 0x7f71c33e6cc0>\n"
     ]
    }
   ],
   "source": [
    "interpolator = PLI(mesh)\n",
    "stratigraphy_builder = GeologicalFeatureInterpolator(\n",
    "    interpolator=interpolator,\n",
    "    name='stratigraphy')\n",
    "solver = 'lu'\n",
    "# for i, r in points.iterrows():\n",
    "#     stratigraphy_builder.add_point([r['X'],r['Y'],r['Z']],r['Strati'])#xy[0][0],xy[1][0],z],r['value'],itype=r['itype'])\n",
    "for i, r in sections.iterrows():\n",
    "    stratigraphy_builder.add_point([r['X'],r['Y'],r['Z']],0)#xy[0][0],xy[1][0],z],r['value'],itype=r['itype'])\n",
    "for i, r in sections.iterrows():\n",
    "    stratigraphy_builder.add_point([r['X'],r['Y'],r['Z']+100],100)#xy[0][0],xy[1][0],z]\n",
    "# for i, r in dips.iterrows():\n",
    "#     stratigraphy_builder.add_planar_constraint([r['X'],r['Y'],r['Z']],[-r['OrientX'],-r['OrientY'],-r['OrientZ']])\n",
    "# stratigraphy_builder.add_point([6.1,0.1,1.1],0.)\n",
    "# stratigraphy_builder.add_point([6.1,0.1,2.1],1.)\n",
    "# stratigraphy_builder.add_strike_and_dip([1,1,1],90.,0.)\n",
    "unique = np.unique(stratigraphy_builder.interpolator.get_control_points()[:,3])"
   ]
  },
  {
   "cell_type": "code",
   "execution_count": 5,
   "metadata": {
    "ExecuteTime": {
     "end_time": "2019-09-09T06:48:27.732196Z",
     "start_time": "2019-09-09T06:48:18.562238Z"
    }
   },
   "outputs": [],
   "source": [
    "stratigraphy = stratigraphy_builder.build(solver=solver,cgw=1,cpw=49,gcp=49)\n"
   ]
  },
  {
   "cell_type": "code",
   "execution_count": null,
   "metadata": {
    "ExecuteTime": {
     "start_time": "2019-09-09T06:48:13.293Z"
    }
   },
   "outputs": [],
   "source": [
    "viewer = LavaVuModelViewer(background=\"white\")\n",
    "# viewer.plot_isosurface(stratigraphy, slices=unique,  colour='blue')\n",
    "viewer.plot_value_data(stratigraphy.support.interpolator.get_control_points()[:,:3],\n",
    "                       stratigraphy.support.interpolator.get_control_points()[:,3],\n",
    "                       'val')\n",
    "viewer.plot_isosurface(stratigraphy, isovalue=0, colour='red')\n",
    "# viewer.plot_vector_data(\n",
    "#     stratigraphy.support.interpolator.get_gradient_control()[:,:3],\n",
    "#     stratigraphy.support.interpolator.get_gradient_control()[:,3:],\n",
    "#     'grad')\n",
    "\n",
    "viewer.interactive()"
   ]
  },
  {
   "cell_type": "code",
   "execution_count": null,
   "metadata": {
    "ExecuteTime": {
     "start_time": "2019-09-09T06:48:13.297Z"
    }
   },
   "outputs": [],
   "source": [
    "viewer.lv.image(\"~/dev/python/FME/examples/Claudius/loop.png\")"
   ]
  },
  {
   "cell_type": "code",
   "execution_count": null,
   "metadata": {},
   "outputs": [],
   "source": []
  }
 ],
 "metadata": {
  "kernelspec": {
   "display_name": "Python 3",
   "language": "python",
   "name": "python3"
  },
  "language_info": {
   "codemirror_mode": {
    "name": "ipython",
    "version": 3
   },
   "file_extension": ".py",
   "mimetype": "text/x-python",
   "name": "python",
   "nbconvert_exporter": "python",
   "pygments_lexer": "ipython3",
   "version": "3.6.8"
  },
  "varInspector": {
   "cols": {
    "lenName": 16,
    "lenType": 16,
    "lenVar": 40
   },
   "kernels_config": {
    "python": {
     "delete_cmd_postfix": "",
     "delete_cmd_prefix": "del ",
     "library": "var_list.py",
     "varRefreshCmd": "print(var_dic_list())"
    },
    "r": {
     "delete_cmd_postfix": ") ",
     "delete_cmd_prefix": "rm(",
     "library": "var_list.r",
     "varRefreshCmd": "cat(var_dic_list()) "
    }
   },
   "types_to_exclude": [
    "module",
    "function",
    "builtin_function_or_method",
    "instance",
    "_Feature"
   ],
   "window_display": false
  }
 },
 "nbformat": 4,
 "nbformat_minor": 2
}
