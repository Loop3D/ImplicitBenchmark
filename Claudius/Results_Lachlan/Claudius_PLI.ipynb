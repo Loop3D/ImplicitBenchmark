{
 "cells": [
  {
   "cell_type": "code",
   "execution_count": 1,
   "metadata": {
    "ExecuteTime": {
     "end_time": "2019-09-09T05:32:52.548882Z",
     "start_time": "2019-09-09T05:32:51.075479Z"
    }
   },
   "outputs": [],
   "source": [
    "from FME.interpolators.piecewiselinear_interpolator import PiecewiseLinearInterpolator as PLI\n",
    "from FME.supports.tet_mesh import TetMesh\n",
    "from FME.modelling.features.geological_feature import GeologicalFeatureInterpolator\n",
    "# from FME.modelling.features.faulted_geological_feature import FaultedGeologicalFeature\n",
    "from FME.visualisation.model_visualisation import LavaVuModelViewer\n",
    "# from FME.modelling.structural_frame import StructuralFrameBuilder, StructuralFrame\n",
    "# from FME.modelling.fault.fault_segment import FaultSegment\n",
    "import numpy as np\n",
    "import lavavu\n",
    "import matplotlib.pyplot as plt\n",
    "import pandas as pd\n",
    "%matplotlib inline"
   ]
  },
  {
   "cell_type": "code",
   "execution_count": 2,
   "metadata": {
    "ExecuteTime": {
     "end_time": "2019-09-09T05:32:52.654040Z",
     "start_time": "2019-09-09T05:32:52.553724Z"
    }
   },
   "outputs": [],
   "source": [
    "dips = pd.read_csv('../Dips.csv',delimiter=';')\n",
    "points_file_names = ['../APoints.csv','../BPoints.csv','../CPoints.csv','../DPoints.csv']\n",
    "section_file_names = ['../ASection.csv','../BSection.csv','../CSection.csv','../DSection.csv']\n",
    "\n",
    "# import all of the csv into the same dataframe\n",
    "dfs = []\n",
    "for f in points_file_names:\n",
    "    dfs.append(pd.read_csv(f,delimiter=';'))\n",
    "points = pd.concat(dfs,axis=0,ignore_index=True)\n",
    "# sections\n",
    "dfs = []\n",
    "for f in section_file_names:\n",
    "    dfs.append(pd.read_csv(f,delimiter=';'))\n",
    "sections = pd.concat(dfs,axis=0,ignore_index=True)\n",
    "# apoints = pd.read_csv('APoints.csv',delimiter=';')\n",
    "# asection = pd.read_csv('ASection.csv',delimiter=';')\n",
    "\n"
   ]
  },
  {
   "cell_type": "code",
   "execution_count": null,
   "metadata": {
    "ExecuteTime": {
     "end_time": "2019-08-29T05:12:14.163319Z",
     "start_time": "2019-08-29T05:12:14.149529Z"
    }
   },
   "outputs": [],
   "source": []
  },
  {
   "cell_type": "code",
   "execution_count": 3,
   "metadata": {
    "ExecuteTime": {
     "end_time": "2019-09-09T05:32:58.182548Z",
     "start_time": "2019-09-09T05:32:52.657416Z"
    }
   },
   "outputs": [],
   "source": [
    "boundary_points = np.zeros((2,3))\n",
    "\n",
    "boundary_points[0,0] = 548800\n",
    "boundary_points[0,1] = 7816600\n",
    "boundary_points[0,2] = -11010\n",
    "boundary_points[1,0] = 552500\n",
    "boundary_points[1,1] = 7822000\n",
    "boundary_points[1,2] = -8400\n",
    "mesh = TetMesh()\n",
    "mesh.setup_mesh(boundary_points, nstep=1, n_tetra=150000,)\n"
   ]
  },
  {
   "cell_type": "code",
   "execution_count": 4,
   "metadata": {
    "ExecuteTime": {
     "end_time": "2019-09-09T05:33:02.878263Z",
     "start_time": "2019-09-09T05:32:58.227891Z"
    }
   },
   "outputs": [
    {
     "name": "stdout",
     "output_type": "stream",
     "text": [
      "<FME.supports.tet_mesh.TetMesh object at 0x7fdfcf2a9320>\n"
     ]
    }
   ],
   "source": [
    "interpolator = PLI(mesh)\n",
    "stratigraphy_builder = GeologicalFeatureInterpolator(\n",
    "    interpolator=interpolator,\n",
    "    name='stratigraphy')\n",
    "solver = 'lu'\n",
    "for i, r in points.iterrows():\n",
    "    stratigraphy_builder.add_point([r['X'],r['Y'],r['Z']],r['Strati'])#xy[0][0],xy[1][0],z],r['value'],itype=r['itype'])\n",
    "for i, r in sections.iterrows():\n",
    "    stratigraphy_builder.add_point([r['X'],r['Y'],r['Z']],r['Strati'])#xy[0][0],xy[1][0],z],r['value'],itype=r['itype'])\n",
    "for i, r in dips.iterrows():\n",
    "    stratigraphy_builder.add_planar_constraint([r['X'],r['Y'],r['Z']],[r['OrientX'],r['OrientY'],r['OrientZ']])\n",
    "# stratigraphy_builder.add_point([6.1,0.1,1.1],0.)\n",
    "# stratigraphy_builder.add_point([6.1,0.1,2.1],1.)\n",
    "# stratigraphy_builder.add_strike_and_dip([1,1,1],90.,0.)\n",
    "unique = np.unique(stratigraphy_builder.interpolator.get_control_points()[:,3])"
   ]
  },
  {
   "cell_type": "code",
   "execution_count": 5,
   "metadata": {
    "ExecuteTime": {
     "end_time": "2019-09-09T05:35:42.644038Z",
     "start_time": "2019-09-09T05:33:02.881753Z"
    }
   },
   "outputs": [],
   "source": [
    "stratigraphy = stratigraphy_builder.build(solver=solver,\n",
    "                                          cgw=30,\n",
    "                                         cpw=35,\n",
    "                                         gpw=35)#,cgw=100)\n"
   ]
  },
  {
   "cell_type": "code",
   "execution_count": null,
   "metadata": {
    "ExecuteTime": {
     "start_time": "2019-09-09T05:32:51.104Z"
    }
   },
   "outputs": [
    {
     "name": "stdout",
     "output_type": "stream",
     "text": [
      "Creating isosurface for 0.000000\n",
      "Creating isosurface for 60.000000\n",
      "Creating isosurface for 250.000000\n"
     ]
    }
   ],
   "source": [
    "viewer = LavaVuModelViewer(background=\"white\")\n",
    "viewer.plot_isosurface(stratigraphy, slices=unique,  colour='blue')\n",
    "viewer.plot_value_data(stratigraphy.support.interpolator.get_control_points()[:,:3],\n",
    "                       stratigraphy.support.interpolator.get_control_points()[:,3],\n",
    "                       'val')\n",
    "# viewer.plot_isosurface(stratigraphy, slices=[30,125,300], colour='red')\n",
    "viewer.plot_vector_data(\n",
    "    stratigraphy.support.interpolator.get_gradient_control()[:,:3],\n",
    "    stratigraphy.support.interpolator.get_gradient_control()[:,3:],\n",
    "    'grad')\n",
    "\n",
    "viewer.interactive()"
   ]
  },
  {
   "cell_type": "code",
   "execution_count": null,
   "metadata": {
    "ExecuteTime": {
     "start_time": "2019-09-09T05:32:51.120Z"
    }
   },
   "outputs": [],
   "source": [
    "viewer.lv.image(\"~/dev/python/FME/examples/Claudius/loop.png\")"
   ]
  },
  {
   "cell_type": "code",
   "execution_count": null,
   "metadata": {},
   "outputs": [],
   "source": []
  }
 ],
 "metadata": {
  "kernelspec": {
   "display_name": "Python 3",
   "language": "python",
   "name": "python3"
  },
  "language_info": {
   "codemirror_mode": {
    "name": "ipython",
    "version": 3
   },
   "file_extension": ".py",
   "mimetype": "text/x-python",
   "name": "python",
   "nbconvert_exporter": "python",
   "pygments_lexer": "ipython3",
   "version": "3.6.8"
  },
  "varInspector": {
   "cols": {
    "lenName": 16,
    "lenType": 16,
    "lenVar": 40
   },
   "kernels_config": {
    "python": {
     "delete_cmd_postfix": "",
     "delete_cmd_prefix": "del ",
     "library": "var_list.py",
     "varRefreshCmd": "print(var_dic_list())"
    },
    "r": {
     "delete_cmd_postfix": ") ",
     "delete_cmd_prefix": "rm(",
     "library": "var_list.r",
     "varRefreshCmd": "cat(var_dic_list()) "
    }
   },
   "types_to_exclude": [
    "module",
    "function",
    "builtin_function_or_method",
    "instance",
    "_Feature"
   ],
   "window_display": false
  }
 },
 "nbformat": 4,
 "nbformat_minor": 2
}
