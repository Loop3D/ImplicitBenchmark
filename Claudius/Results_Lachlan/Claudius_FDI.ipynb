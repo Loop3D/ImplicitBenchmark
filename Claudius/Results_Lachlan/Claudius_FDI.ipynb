{
 "cells": [
  {
   "cell_type": "code",
   "execution_count": 15,
   "metadata": {
    "ExecuteTime": {
     "end_time": "2019-09-09T11:44:13.714529Z",
     "start_time": "2019-09-09T11:44:13.703347Z"
    }
   },
   "outputs": [],
   "source": [
    "from FME.interpolators.finite_difference_interpolator import FiniteDifferenceInterpolator as FDI\n",
    "from FME.supports.structured_grid import StructuredGrid\n",
    "from FME.modelling.features.geological_feature import GeologicalFeatureInterpolator\n",
    "# from FME.modelling.features.faulted_geological_feature import FaultedGeologicalFeature\n",
    "from FME.visualisation.model_visualisation import LavaVuModelViewer\n",
    "# from FME.modelling.structural_frame import StructuralFrameBuilder, StructuralFrame\n",
    "# from FME.modelling.fault.fault_segment import FaultSegment\n",
    "import numpy as np\n",
    "import lavavu\n",
    "import matplotlib.pyplot as plt\n",
    "import pandas as pd\n",
    "%matplotlib inline"
   ]
  },
  {
   "cell_type": "code",
   "execution_count": 16,
   "metadata": {
    "ExecuteTime": {
     "end_time": "2019-09-09T11:44:13.987355Z",
     "start_time": "2019-09-09T11:44:13.952579Z"
    }
   },
   "outputs": [],
   "source": [
    "dips = pd.read_csv('../Dips.csv',delimiter=';')\n",
    "points_file_names = ['../APoints.csv','../BPoints.csv','../CPoints.csv','../DPoints.csv']\n",
    "section_file_names = ['../ASection.csv','../BSection.csv','../CSection.csv','../DSection.csv']\n",
    "\n",
    "# import all of the csv into the same dataframe\n",
    "dfs = []\n",
    "for f in points_file_names:\n",
    "    dfs.append(pd.read_csv(f,delimiter=';'))\n",
    "points = pd.concat(dfs,axis=0,ignore_index=True)\n",
    "# sections\n",
    "dfs = []\n",
    "for f in section_file_names:\n",
    "    dfs.append(pd.read_csv(f,delimiter=';'))\n",
    "sections = pd.concat(dfs,axis=0,ignore_index=True)\n",
    "# apoints = pd.read_csv('APoints.csv',delimiter=';')\n",
    "# asection = pd.read_csv('ASection.csv',delimiter=';')\n",
    "\n"
   ]
  },
  {
   "cell_type": "code",
   "execution_count": null,
   "metadata": {
    "ExecuteTime": {
     "end_time": "2019-08-29T05:12:14.163319Z",
     "start_time": "2019-08-29T05:12:14.149529Z"
    }
   },
   "outputs": [],
   "source": []
  },
  {
   "cell_type": "code",
   "execution_count": 17,
   "metadata": {
    "ExecuteTime": {
     "end_time": "2019-09-09T11:44:14.877489Z",
     "start_time": "2019-09-09T11:44:14.859219Z"
    }
   },
   "outputs": [],
   "source": [
    "origin = (548800, 7816600, -11010,)\n",
    "nsteps = np.array((38,55,30))\n",
    "# nsteps = np.array((19,28,15))\n",
    "\n",
    "step_vector = (100,100,90)\n",
    "grid = StructuredGrid(origin=origin, nsteps=nsteps,step_vector=step_vector)\n",
    "\n"
   ]
  },
  {
   "cell_type": "code",
   "execution_count": 18,
   "metadata": {
    "ExecuteTime": {
     "end_time": "2019-09-09T11:44:17.471252Z",
     "start_time": "2019-09-09T11:44:15.631446Z"
    }
   },
   "outputs": [
    {
     "name": "stdout",
     "output_type": "stream",
     "text": [
      "<FME.supports.structured_grid.StructuredGrid object at 0x7fcb3bf78d30>\n"
     ]
    }
   ],
   "source": [
    "interpolator = FDI(grid)\n",
    "stratigraphy_builder = GeologicalFeatureInterpolator(\n",
    "    interpolator=interpolator,\n",
    "    name='stratigraphy')\n",
    "solver = 'lu'\n",
    "for i, r in points.iterrows():\n",
    "    stratigraphy_builder.add_point([r['X'],r['Y'],r['Z']],r['Strati'])#xy[0][0],xy[1][0],z],r['value'],itype=r['itype'])\n",
    "for i, r in sections.iterrows():\n",
    "    stratigraphy_builder.add_point([r['X'],r['Y'],r['Z']],r['Strati'])#xy[0][0],xy[1][0],z],r['value'],itype=r['itype'])\n",
    "for i, r in dips.iterrows():\n",
    "    stratigraphy_builder.add_planar_constraint([r['X'],r['Y'],r['Z']],[r['OrientX'],r['OrientY'],r['OrientZ']])\n",
    "# stratigraphy_builder.add_point([6.1,0.1,1.1],0.)\n",
    "# stratigraphy_builder.add_point([6.1,0.1,2.1],1.)\n",
    "# stratigraphy_builder.add_strike_and_dip([1,1,1],90.,0.)\n",
    "unique = np.unique(stratigraphy_builder.interpolator.get_control_points()[:,3])"
   ]
  },
  {
   "cell_type": "code",
   "execution_count": 19,
   "metadata": {
    "ExecuteTime": {
     "end_time": "2019-09-09T11:44:26.252138Z",
     "start_time": "2019-09-09T11:44:17.559745Z"
    }
   },
   "outputs": [
    {
     "name": "stdout",
     "output_type": "stream",
     "text": [
      "341642 (341642, 62700)\n",
      "Conjugate gradient converged\n"
     ]
    }
   ],
   "source": [
    "stratigraphy = stratigraphy_builder.build(    \n",
    "    solver='cg',\n",
    "    dxy=.1,\n",
    "    dyz=.1,\n",
    "    dxz= .1,\n",
    "    dxx= .5,\n",
    "    dyy= .5,\n",
    "    dzz= 2,\n",
    ")\n"
   ]
  },
  {
   "cell_type": "code",
   "execution_count": null,
   "metadata": {
    "ExecuteTime": {
     "end_time": "2019-09-09T11:43:47.243004Z",
     "start_time": "2019-09-09T11:43:46.381Z"
    },
    "scrolled": false
   },
   "outputs": [],
   "source": [
    "viewer = LavaVuModelViewer(background=\"white\")\n",
    "viewer.plot_isosurface(stratigraphy, slices=unique, colour='blue')\n",
    "viewer.plot_isosurface(stratigraphy, slices=[30,125,300], colour='red')\n",
    "\n",
    "viewer.plot_value_data(stratigraphy.support.interpolator.get_control_points()[:,:3],\n",
    "                       stratigraphy.support.interpolator.get_control_points()[:,3],\n",
    "                       'val')\n",
    "viewer.plot_vector_data(\n",
    "    stratigraphy.support.interpolator.get_gradient_control()[:,:3],\n",
    "    stratigraphy.support.interpolator.get_gradient_control()[:,3:],\n",
    "    'grad')\n",
    "viewer.interactive()"
   ]
  },
  {
   "cell_type": "code",
   "execution_count": 7,
   "metadata": {
    "ExecuteTime": {
     "end_time": "2019-09-06T05:51:58.714042Z",
     "start_time": "2019-09-06T05:51:58.562368Z"
    }
   },
   "outputs": [],
   "source": [
    "np.savetxt(\"fdi_claudius_lg.csv\",stratigraphy.support.get_node_values())"
   ]
  },
  {
   "cell_type": "code",
   "execution_count": 7,
   "metadata": {
    "ExecuteTime": {
     "end_time": "2019-09-09T11:42:57.955978Z",
     "start_time": "2019-09-09T11:42:57.826304Z"
    }
   },
   "outputs": [
    {
     "ename": "IndexError",
     "evalue": "index 62700 is out of bounds for axis 0 with size 62700",
     "output_type": "error",
     "traceback": [
      "\u001b[0;31m---------------------------------------------------------------------------\u001b[0m",
      "\u001b[0;31mIndexError\u001b[0m                                Traceback (most recent call last)",
      "\u001b[0;32m<ipython-input-7-0761826e892c>\u001b[0m in \u001b[0;36m<module>\u001b[0;34m\u001b[0m\n\u001b[1;32m      9\u001b[0m \u001b[0mzz\u001b[0m\u001b[0;34m=\u001b[0m\u001b[0mzz\u001b[0m\u001b[0;34m.\u001b[0m\u001b[0mflatten\u001b[0m\u001b[0;34m(\u001b[0m\u001b[0;34m)\u001b[0m\u001b[0;34m\u001b[0m\u001b[0;34m\u001b[0m\u001b[0m\n\u001b[1;32m     10\u001b[0m \u001b[0mpoints\u001b[0m \u001b[0;34m=\u001b[0m \u001b[0mnp\u001b[0m\u001b[0;34m.\u001b[0m\u001b[0marray\u001b[0m\u001b[0;34m(\u001b[0m\u001b[0;34m[\u001b[0m\u001b[0mxx\u001b[0m\u001b[0;34m,\u001b[0m\u001b[0myy\u001b[0m\u001b[0;34m,\u001b[0m\u001b[0mzz\u001b[0m\u001b[0;34m]\u001b[0m\u001b[0;34m)\u001b[0m\u001b[0;34m.\u001b[0m\u001b[0mT\u001b[0m\u001b[0;34m\u001b[0m\u001b[0;34m\u001b[0m\u001b[0m\n\u001b[0;32m---> 11\u001b[0;31m \u001b[0mv\u001b[0m \u001b[0;34m=\u001b[0m \u001b[0mstratigraphy\u001b[0m\u001b[0;34m.\u001b[0m\u001b[0mevaluate_value\u001b[0m\u001b[0;34m(\u001b[0m\u001b[0mpoints\u001b[0m\u001b[0;34m)\u001b[0m\u001b[0;34m\u001b[0m\u001b[0;34m\u001b[0m\u001b[0m\n\u001b[0m\u001b[1;32m     12\u001b[0m \u001b[0mnp\u001b[0m\u001b[0;34m.\u001b[0m\u001b[0msavetxt\u001b[0m\u001b[0;34m(\u001b[0m\u001b[0;34m\"fdi_claudius38_55_30.csv\"\u001b[0m\u001b[0;34m,\u001b[0m\u001b[0mv\u001b[0m\u001b[0;34m)\u001b[0m\u001b[0;34m\u001b[0m\u001b[0;34m\u001b[0m\u001b[0m\n",
      "\u001b[0;32m~/fme/lib/python3.6/site-packages/FME-0.0.0-py3.6-linux-x86_64.egg/FME/modelling/features/geological_feature.py\u001b[0m in \u001b[0;36mevaluate_value\u001b[0;34m(self, evaluation_points)\u001b[0m\n\u001b[1;32m     86\u001b[0m \u001b[0;34m\u001b[0m\u001b[0m\n\u001b[1;32m     87\u001b[0m     \u001b[0;32mdef\u001b[0m \u001b[0mevaluate_value\u001b[0m\u001b[0;34m(\u001b[0m\u001b[0mself\u001b[0m\u001b[0;34m,\u001b[0m \u001b[0mevaluation_points\u001b[0m\u001b[0;34m)\u001b[0m\u001b[0;34m:\u001b[0m\u001b[0;34m\u001b[0m\u001b[0;34m\u001b[0m\u001b[0m\n\u001b[0;32m---> 88\u001b[0;31m         \u001b[0;32mreturn\u001b[0m \u001b[0mself\u001b[0m\u001b[0;34m.\u001b[0m\u001b[0msupport\u001b[0m\u001b[0;34m.\u001b[0m\u001b[0mevaluate_value\u001b[0m\u001b[0;34m(\u001b[0m\u001b[0mevaluation_points\u001b[0m\u001b[0;34m)\u001b[0m\u001b[0;34m\u001b[0m\u001b[0;34m\u001b[0m\u001b[0m\n\u001b[0m\u001b[1;32m     89\u001b[0m \u001b[0;34m\u001b[0m\u001b[0m\n\u001b[1;32m     90\u001b[0m     \u001b[0;32mdef\u001b[0m \u001b[0mevaluate_gradient\u001b[0m\u001b[0;34m(\u001b[0m\u001b[0mself\u001b[0m\u001b[0;34m,\u001b[0m \u001b[0mlocations\u001b[0m\u001b[0;34m)\u001b[0m\u001b[0;34m:\u001b[0m\u001b[0;34m\u001b[0m\u001b[0;34m\u001b[0m\u001b[0m\n",
      "\u001b[0;32m~/fme/lib/python3.6/site-packages/FME-0.0.0-py3.6-linux-x86_64.egg/FME/modelling/scalar_field.py\u001b[0m in \u001b[0;36mevaluate_value\u001b[0;34m(self, evaluation_points)\u001b[0m\n\u001b[1;32m     41\u001b[0m         \u001b[0;32mif\u001b[0m \u001b[0mevaluation_points\u001b[0m\u001b[0;34m[\u001b[0m\u001b[0;34m~\u001b[0m\u001b[0mmask\u001b[0m\u001b[0;34m,\u001b[0m\u001b[0;34m:\u001b[0m\u001b[0;34m]\u001b[0m\u001b[0;34m.\u001b[0m\u001b[0mshape\u001b[0m\u001b[0;34m[\u001b[0m\u001b[0;36m0\u001b[0m\u001b[0;34m]\u001b[0m\u001b[0;34m>\u001b[0m\u001b[0;36m0\u001b[0m\u001b[0;34m:\u001b[0m\u001b[0;34m\u001b[0m\u001b[0;34m\u001b[0m\u001b[0m\n\u001b[1;32m     42\u001b[0m             evaluated[~mask] = self.support.evaluate_value(\n\u001b[0;32m---> 43\u001b[0;31m                 evaluation_points[~mask], self.property_name)\n\u001b[0m\u001b[1;32m     44\u001b[0m         \u001b[0;32mreturn\u001b[0m \u001b[0mevaluated\u001b[0m\u001b[0;34m\u001b[0m\u001b[0;34m\u001b[0m\u001b[0m\n\u001b[1;32m     45\u001b[0m \u001b[0;34m\u001b[0m\u001b[0m\n",
      "\u001b[0;32m~/fme/lib/python3.6/site-packages/FME-0.0.0-py3.6-linux-x86_64.egg/FME/supports/structured_grid.py\u001b[0m in \u001b[0;36mevaluate_value\u001b[0;34m(self, evaluation_points, property_name)\u001b[0m\n\u001b[1;32m    247\u001b[0m \u001b[0;31m#        idc = self.global_indicies(indices.swapaxes(0,1))\u001b[0m\u001b[0;34m\u001b[0m\u001b[0;34m\u001b[0m\u001b[0;34m\u001b[0m\u001b[0m\n\u001b[1;32m    248\u001b[0m         \u001b[0mv\u001b[0m \u001b[0;34m=\u001b[0m \u001b[0mself\u001b[0m\u001b[0;34m.\u001b[0m\u001b[0mposition_to_dof_coefs\u001b[0m\u001b[0;34m(\u001b[0m\u001b[0mevaluation_points\u001b[0m\u001b[0;34m)\u001b[0m\u001b[0;34m.\u001b[0m\u001b[0mT\u001b[0m\u001b[0;34m\u001b[0m\u001b[0;34m\u001b[0m\u001b[0m\n\u001b[0;32m--> 249\u001b[0;31m         \u001b[0mv\u001b[0m \u001b[0;34m*=\u001b[0m \u001b[0mself\u001b[0m\u001b[0;34m.\u001b[0m\u001b[0mproperties\u001b[0m\u001b[0;34m[\u001b[0m\u001b[0mproperty_name\u001b[0m\u001b[0;34m]\u001b[0m\u001b[0;34m[\u001b[0m\u001b[0midc\u001b[0m\u001b[0;34m]\u001b[0m\u001b[0;34m\u001b[0m\u001b[0;34m\u001b[0m\u001b[0m\n\u001b[0m\u001b[1;32m    250\u001b[0m         \u001b[0;32mreturn\u001b[0m \u001b[0mnp\u001b[0m\u001b[0;34m.\u001b[0m\u001b[0msum\u001b[0m\u001b[0;34m(\u001b[0m\u001b[0mv\u001b[0m\u001b[0;34m,\u001b[0m \u001b[0maxis\u001b[0m\u001b[0;34m=\u001b[0m\u001b[0;36m1\u001b[0m\u001b[0;34m)\u001b[0m\u001b[0;34m\u001b[0m\u001b[0;34m\u001b[0m\u001b[0m\n\u001b[1;32m    251\u001b[0m     \u001b[0;32mdef\u001b[0m \u001b[0mevaluate_gradient\u001b[0m\u001b[0;34m(\u001b[0m\u001b[0mself\u001b[0m\u001b[0;34m,\u001b[0m \u001b[0mevaluation_points\u001b[0m\u001b[0;34m,\u001b[0m \u001b[0mproperty_name\u001b[0m\u001b[0;34m)\u001b[0m\u001b[0;34m:\u001b[0m\u001b[0;34m\u001b[0m\u001b[0;34m\u001b[0m\u001b[0m\n",
      "\u001b[0;31mIndexError\u001b[0m: index 62700 is out of bounds for axis 0 with size 62700"
     ]
    }
   ],
   "source": [
    "x = np.linspace(548800,552500,38)\n",
    "y = np.linspace(7816600,7822000,55)\n",
    "z = np.linspace(-11010,-8400,30)\n",
    "\n",
    "xx,yy,zz = np.meshgrid(x,y,z)\n",
    "\n",
    "xx=xx.flatten()\n",
    "yy=yy.flatten()\n",
    "zz=zz.flatten()\n",
    "points = np.array([xx,yy,zz]).T\n",
    "v = stratigraphy.evaluate_value(points)\n",
    "np.savetxt(\"fdi_claudius38_55_30.csv\",v)"
   ]
  },
  {
   "cell_type": "code",
   "execution_count": null,
   "metadata": {},
   "outputs": [],
   "source": []
  }
 ],
 "metadata": {
  "kernelspec": {
   "display_name": "Python 3",
   "language": "python",
   "name": "python3"
  },
  "language_info": {
   "codemirror_mode": {
    "name": "ipython",
    "version": 3
   },
   "file_extension": ".py",
   "mimetype": "text/x-python",
   "name": "python",
   "nbconvert_exporter": "python",
   "pygments_lexer": "ipython3",
   "version": "3.6.8"
  },
  "varInspector": {
   "cols": {
    "lenName": 16,
    "lenType": 16,
    "lenVar": 40
   },
   "kernels_config": {
    "python": {
     "delete_cmd_postfix": "",
     "delete_cmd_prefix": "del ",
     "library": "var_list.py",
     "varRefreshCmd": "print(var_dic_list())"
    },
    "r": {
     "delete_cmd_postfix": ") ",
     "delete_cmd_prefix": "rm(",
     "library": "var_list.r",
     "varRefreshCmd": "cat(var_dic_list()) "
    }
   },
   "types_to_exclude": [
    "module",
    "function",
    "builtin_function_or_method",
    "instance",
    "_Feature"
   ],
   "window_display": false
  }
 },
 "nbformat": 4,
 "nbformat_minor": 2
}
